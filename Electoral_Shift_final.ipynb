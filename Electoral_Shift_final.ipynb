{
 "cells": [
  {
   "cell_type": "markdown",
   "metadata": {},
   "source": [
    "# 1. Election Data Cleaning and Restructuring\n",
    "Electoin data come from the MIT election lab (https://electionlab.mit.edu/data) and are hosted by Harvard Dataverse (https://dataverse.harvard.edu/file.xhtml?persistentId=doi:10.7910/DVN/VOQCHQ/HEIJCQ&version=6.0). \n",
    "\n"
   ]
  },
  {
   "cell_type": "code",
   "execution_count": 1,
   "metadata": {},
   "outputs": [],
   "source": [
    "import pandas as pd\n",
    "import numpy as np"
   ]
  },
  {
   "cell_type": "code",
   "execution_count": 2,
   "metadata": {},
   "outputs": [],
   "source": [
    "#read in countypres csv\n",
    "countypres = pd.read_csv('countypres_2000-2016.csv')"
   ]
  },
  {
   "cell_type": "code",
   "execution_count": 3,
   "metadata": {},
   "outputs": [],
   "source": [
    "#remove any rows that have nan for state_po or candidatevotes (which are all erroneous)\n",
    "countypres = countypres[~countypres['state_po'].isna()]\n",
    "countypres = countypres[~countypres['candidatevotes'].isna()]"
   ]
  },
  {
   "cell_type": "code",
   "execution_count": 4,
   "metadata": {},
   "outputs": [],
   "source": [
    "#only keep repulican and democrat candidates\n",
    "major_party = ('democrat', 'republican')\n",
    "countypres = countypres[countypres['party'].isin(major_party)]"
   ]
  },
  {
   "cell_type": "code",
   "execution_count": 5,
   "metadata": {},
   "outputs": [],
   "source": [
    "#create a df with FIPS, county and state to reattach later\n",
    "FIPS_data = countypres[['FIPS', 'state', 'county']].drop_duplicates()\n",
    "\n",
    "#drop 'state', 'state_po', 'county', 'office', 'candidate', 'version' cols\n",
    "countypres_lite = countypres.drop(['state', 'state_po', 'county', 'office', 'candidate', 'version'], axis = 1)\n",
    "\n",
    "#set dtypes for FIPS and candidatevotes as int\n",
    "countypres_lite[['FIPS', 'candidatevotes']] = countypres_lite[['FIPS', 'candidatevotes']].astype('int')"
   ]
  },
  {
   "cell_type": "code",
   "execution_count": 6,
   "metadata": {},
   "outputs": [],
   "source": [
    "#create column 'vote_portion'  = 'candidatevotes' / 'totalvotes'\n",
    "countypres_lite['vote_portion'] = countypres_lite['candidatevotes'] / countypres_lite['totalvotes']\n",
    "\n",
    "#pivot countypres_lite to make vote portion for each party the values, and year/FIPS the index\n",
    "countypres_lite_piv = pd.pivot_table(countypres_lite,\n",
    "                                     values = 'vote_portion',\n",
    "                                    index = ['year', 'FIPS'],\n",
    "                                    columns = 'party')\n",
    "\n",
    "#drop party and candidatevotes from countypres_lite\n",
    "turnout = countypres_lite.drop(['party', 'candidatevotes', 'vote_portion'], axis = 1)\n",
    "turnout.drop_duplicates(inplace = True)\n",
    "\n",
    "#reset countypres_lite_piv index\n",
    "countypres_lite_piv.reset_index(inplace = True)\n",
    "\n",
    "#readd 'totalvotes' column\n",
    "countypres_lite_piv = pd.merge(countypres_lite_piv, turnout, how = 'left', on = ['year', 'FIPS'])\n"
   ]
  },
  {
   "cell_type": "code",
   "execution_count": 7,
   "metadata": {},
   "outputs": [],
   "source": [
    "#create a new column, 'rep_adv', containing republican - democrat for each row.\n",
    "countypres_lite_piv['rep_adv'] = (countypres_lite_piv['republican'] - countypres_lite_piv['democrat'])*100\n",
    "\n",
    "#drop the replublican and democrat columns\n",
    "countypres_lite_piv.drop(['republican', 'democrat'], axis = 1, inplace = True)\n",
    "\n",
    "#remerge in the FIPS data\n",
    "countypres_lite_piv_cnames = countypres_lite_piv.merge(FIPS_data, how = 'left', on = 'FIPS')"
   ]
  },
  {
   "cell_type": "markdown",
   "metadata": {},
   "source": [
    "# 2. Income Data Cleaning and Restructuring"
   ]
  },
  {
   "cell_type": "markdown",
   "metadata": {},
   "source": [
    "Income data come from the following sources:\n",
    "\n",
    "2000: https://www.census.gov/content/census/en/data/datasets/2000/demo/saipe/2000-state-and-county.html\n",
    "\n",
    "2004: https://www.census.gov/content/census/en/data/datasets/2004/demo/saipe/2004-state-and-county.html\n",
    "\n",
    "2008: https://www.census.gov/content/census/en/data/datasets/2008/demo/saipe/2008-state-and-county.html\n",
    "\n",
    "2012: https://www.census.gov/content/census/en/data/datasets/2012/demo/saipe/2012-state-and-county.html\n",
    "\n",
    "2016: https://www.census.gov/content/census/en/data/datasets/2016/demo/saipe/2016-state-and-county.html"
   ]
  },
  {
   "cell_type": "code",
   "execution_count": 8,
   "metadata": {},
   "outputs": [],
   "source": [
    "#read in 2000 income .dat file\n",
    "inc_00 = pd.read_table('2000_income.dat', sep = '\\s+', usecols = [0, 1, 5, 20], header = None, names = ['state_fips', 'county_fips', 'pov_pct', 'med_inc'])"
   ]
  },
  {
   "cell_type": "code",
   "execution_count": 9,
   "metadata": {},
   "outputs": [],
   "source": [
    "#drop any row where county_fips is 000 (these are statewide values)\n",
    "inc_00 = inc_00[inc_00['county_fips'] != 0]\n",
    "\n",
    "#add leading zeroes to county fips code to get them all to three digits\n",
    "inc_00['county_fips'] = inc_00['county_fips'].apply(lambda x: '{0:0>3}'.format(x))\n",
    "\n",
    "#concatenate the state and county codes to create full fips code, and drop the state and county codes\n",
    "inc_00['FIPS'] = inc_00['state_fips'].map(str)+inc_00['county_fips'].map(str)\n",
    "inc_00.drop(['state_fips', 'county_fips'], axis = 1, inplace = True)\n",
    "\n",
    "#convert median income and FIPS to int type\n",
    "inc_00[['med_inc', 'FIPS']] = inc_00[['med_inc', 'FIPS']].astype(int)"
   ]
  },
  {
   "cell_type": "code",
   "execution_count": 10,
   "metadata": {},
   "outputs": [
    {
     "data": {
      "text/plain": [
       "['est04all.csv', 'est08all.csv', 'est12all.csv', 'est16all.csv']"
      ]
     },
     "execution_count": 10,
     "metadata": {},
     "output_type": "execute_result"
    }
   ],
   "source": [
    "from glob import glob\n",
    "\n",
    "#generate a list of the income csv files\n",
    "income_list = glob('est*')\n",
    "income_list"
   ]
  },
  {
   "cell_type": "code",
   "execution_count": 11,
   "metadata": {},
   "outputs": [],
   "source": [
    "#create list of column names, cols\n",
    "cols = ['state_fips', 'county_fips', 'pov_pct', 'med_inc']\n",
    "\n",
    "#read in 2004-2016 income data\n",
    "inc_04 = pd.read_csv(income_list[0], usecols = [0, 1, 7, 22], header = 0, names = cols)\n",
    "inc_08 = pd.read_csv(income_list[1], usecols = [0, 1, 7, 22], header = 0, names = cols)\n",
    "inc_12 = pd.read_csv(income_list[2], usecols = [0, 1, 7, 22], header = 0, names = cols)\n",
    "inc_16 = pd.read_csv(income_list[3], usecols = [0, 1, 7, 22], header = 0, names = cols)\n",
    "\n",
    "#create a list of the 04-16 income dfs\n",
    "income_dfs = [inc_04, inc_08, inc_12, inc_16]"
   ]
  },
  {
   "cell_type": "code",
   "execution_count": 12,
   "metadata": {},
   "outputs": [],
   "source": [
    "#drop NaNs, and drop any row where county_fips is 0 (these are statewide values)\n",
    "for df in income_dfs:\n",
    "    df = df.dropna()\n",
    "    df = df[df['county_fips'] != 0]"
   ]
  },
  {
   "cell_type": "code",
   "execution_count": 13,
   "metadata": {},
   "outputs": [],
   "source": [
    "#add leading zeroes to county fips code to get them all to three digits, and concatenate to create full fips code\n",
    "for df in income_dfs:\n",
    "    df['county_fips'] = df['county_fips'].apply(lambda x: '{0:0>3}'.format(x))\n",
    "    df['FIPS'] = df['state_fips'].map(str)+df['county_fips'].map(str)\n",
    "    df.drop(['state_fips', 'county_fips'], axis = 1, inplace = True)\n",
    "    df[['FIPS']] = df[['FIPS']].astype(int)"
   ]
  },
  {
   "cell_type": "code",
   "execution_count": 14,
   "metadata": {},
   "outputs": [],
   "source": [
    "#clean up the med_inc columns, dropna, and assign appropriate dtype\n",
    "for df in income_dfs:\n",
    "    df['med_inc'] = df['med_inc'].str.replace(\",\", \"\")\n",
    "    df['med_inc'] = df['med_inc'].replace(\".\", np.nan)\n",
    "    df.dropna(inplace = True)\n",
    "    df[['med_inc']] = df[['med_inc']].astype(int)"
   ]
  },
  {
   "cell_type": "code",
   "execution_count": 15,
   "metadata": {},
   "outputs": [],
   "source": [
    "#add a year column to each df\n",
    "inc_00['year'] = 2000\n",
    "inc_04['year'] = 2004\n",
    "inc_08['year'] = 2008\n",
    "inc_12['year'] = 2012\n",
    "inc_16['year'] = 2016\n",
    "\n",
    "#vertically concatenate all income dfs\n",
    "for df in income_dfs:\n",
    "    inc_00 = inc_00.append(df)\n",
    "\n",
    "#reassign df to new generic var name\n",
    "income = inc_00"
   ]
  },
  {
   "cell_type": "code",
   "execution_count": 16,
   "metadata": {},
   "outputs": [],
   "source": [
    "#merge income df into countypres_lite_piv_cnames\n",
    "countypres_income = pd.merge(countypres_lite_piv_cnames, income, how = 'left', on = ['year', 'FIPS'])"
   ]
  },
  {
   "cell_type": "markdown",
   "metadata": {},
   "source": [
    "# 3. Population Data Restructuring and Cleaning\n",
    "\n",
    "Data comes from the US Census Bureau: https://www2.census.gov/programs-surveys/popest/datasets/"
   ]
  },
  {
   "cell_type": "code",
   "execution_count": 17,
   "metadata": {},
   "outputs": [],
   "source": [
    "#read in population CSVs\n",
    "pop00_08 = pd.read_csv('cty_pop_00-08.csv', usecols = [0, 1, 4, 5, 6])\n",
    "pop12_16 = pd.read_csv('cty_pop_12-16.csv', usecols = [0, 1, 4, 5])\n",
    "\n",
    "#merge the two dfs on 'STATE' and 'COUNTY'\n",
    "population = pd.merge(pop00_08, pop12_16, how = 'outer', on = ['STATE', 'COUNTY'])\n",
    "\n",
    "#rename the columns\n",
    "population.rename(columns = {'STATE':'state_fips', \n",
    "                             'COUNTY':'county_fips', \n",
    "                             'POPESTIMATE2000':'2000', \n",
    "                             'POPESTIMATE2004':'2004', \n",
    "                             'POPESTIMATE2008':'2008', \n",
    "                             'POPESTIMATE2012':'2012', \n",
    "                             'POPESTIMATE2016':'2016'}, \n",
    "                  inplace = True)"
   ]
  },
  {
   "cell_type": "code",
   "execution_count": 18,
   "metadata": {},
   "outputs": [],
   "source": [
    "#drop all rows where county-fips is 0 (these are statewide values)\n",
    "population = population[population['county_fips'] != 0]\n",
    "\n",
    "#add leading zeroes to county fips code to get them all to three digits, and concatenate to create full fips code\n",
    "population['county_fips'] = population['county_fips'].apply(lambda x: '{0:0>3}'.format(x))\n",
    "population['FIPS'] = population['state_fips'].map(str)+population['county_fips'].map(str)\n",
    "population.drop(['state_fips', 'county_fips'], axis = 1, inplace = True)\n",
    "population['FIPS'] = population['FIPS'].astype(int)\n",
    "\n",
    "population.set_index('FIPS', inplace = True)"
   ]
  },
  {
   "cell_type": "code",
   "execution_count": 19,
   "metadata": {},
   "outputs": [],
   "source": [
    "#stack population so that year is vertical\n",
    "pop_stack = population.stack()\n",
    "\n",
    "#reset the index, rename the cols, and drop nas\n",
    "pop_stack = pop_stack.reset_index()\n",
    "pop_stack.rename(columns={'level_1':'year', 0:'population'}, inplace = True)\n",
    "pop_stack.dropna(inplace = True)\n",
    "\n",
    "#make 'year' int dtype\n",
    "pop_stack['year'] = pop_stack['year'].astype(int)"
   ]
  },
  {
   "cell_type": "code",
   "execution_count": 20,
   "metadata": {},
   "outputs": [],
   "source": [
    "#merge the pop_stack df into the countypres_income df\n",
    "countypres_inc_pop = pd.merge(countypres_income, pop_stack, how = 'left', on = ['FIPS', 'year'])"
   ]
  },
  {
   "cell_type": "code",
   "execution_count": 21,
   "metadata": {},
   "outputs": [],
   "source": [
    "#drop na vals from df\n",
    "countypres_inc_pop.dropna(inplace = True)\n",
    "\n",
    "#Make 'year' teh index col\n",
    "countypres_inc_pop.set_index('year', inplace = True)"
   ]
  },
  {
   "cell_type": "code",
   "execution_count": 22,
   "metadata": {},
   "outputs": [],
   "source": [
    "#make pov_pct type float\n",
    "countypres_inc_pop['pov_pct'] = countypres_inc_pop['pov_pct'].astype(float) "
   ]
  },
  {
   "cell_type": "code",
   "execution_count": 23,
   "metadata": {},
   "outputs": [],
   "source": [
    "#create a new column for voter turnout percentage\n",
    "countypres_inc_pop['turnout'] = (countypres_inc_pop['totalvotes'] / countypres_inc_pop['population'])*100"
   ]
  },
  {
   "cell_type": "markdown",
   "metadata": {},
   "source": [
    "# 2. Data Visualization"
   ]
  },
  {
   "cell_type": "code",
   "execution_count": 88,
   "metadata": {},
   "outputs": [],
   "source": [
    "from bokeh.io import output_file, show\n",
    "from bokeh.plotting import figure\n",
    "from bokeh.palettes import brewer\n",
    "from bokeh.transform import linear_cmap\n",
    "from bokeh.models import ColumnDataSource, HoverTool, ColorBar\n",
    "from bokeh.layouts import column, row, gridplot"
   ]
  },
  {
   "cell_type": "code",
   "execution_count": 101,
   "metadata": {},
   "outputs": [],
   "source": [
    "#create list of years and and empty plots list\n",
    "years = [2000, 2004, 2008, 2012, 2016]\n",
    "plots = []"
   ]
  },
  {
   "cell_type": "code",
   "execution_count": 102,
   "metadata": {},
   "outputs": [],
   "source": [
    "#create 5 plots with a for loop\n",
    "for i in range(5):\n",
    "    source = ColumnDataSource(data = {\n",
    "    'x' : countypres_inc_pop.loc[years[i]].pov_pct,\n",
    "    'y' : countypres_inc_pop.loc[years[i]].turnout,\n",
    "    'rep_adv' : countypres_inc_pop.loc[years[i]].rep_adv,\n",
    "    'county' : countypres_inc_pop.loc[years[i]].county,\n",
    "    'state' : countypres_inc_pop.loc[years[i]].state,\n",
    "    'population' : (countypres_inc_pop.loc[years[i]].population / 200000) + 1,\n",
    "    'median income' : countypres_inc_pop.loc[years[i]].med_inc,\n",
    "    'poverty' : countypres_inc_pop.loc[years[i]].pov_pct,\n",
    "    'turnout' : countypres_inc_pop.loc[years[i]].turnout\n",
    "    })\n",
    "    #create linear colormap\n",
    "    mapper = linear_cmap(field_name='rep_adv', palette=brewer['RdBu'][11] ,low=-100 ,high=100)\n",
    "    #create plot\n",
    "    plot = figure(title = '{} Presidential Election by County'.format(years[i]), \n",
    "              plot_height=400, \n",
    "              plot_width=700,\n",
    "              x_range=(0, 35), \n",
    "              y_range=(10, 60))\n",
    "    #add hover tool\n",
    "    hover = HoverTool(tooltips=[('County', '@county'', ''@state'), \n",
    "                                ('Poverty (%)', '@poverty'),\n",
    "                                ('GOP margin (%)', '@rep_adv')])\n",
    "    plot.add_tools(hover)\n",
    "    #add circle glyphs to the plot\n",
    "    plot.circle(x='x', \n",
    "                y='y', \n",
    "                line_color = mapper, \n",
    "                color = mapper, \n",
    "                fill_alpha=0.4, \n",
    "                line_alpha = 0.6, \n",
    "                size = 'population', \n",
    "                source=source)\n",
    "    #add colorbar\n",
    "    color_bar = ColorBar(color_mapper=mapper['transform'], width=8,  location=(0,0))\n",
    "    plot.add_layout(color_bar, 'right')\n",
    "    # Set the x-axis label\n",
    "    plot.xaxis.axis_label ='Population in Poverty (%)'\n",
    "    # Set the y-axis label\n",
    "    plot.yaxis.axis_label = 'Voter Turnout (%)'\n",
    "    plots.append(plot)"
   ]
  },
  {
   "cell_type": "code",
   "execution_count": 103,
   "metadata": {},
   "outputs": [],
   "source": [
    "#assign the plots to var names\n",
    "p00, p04, p08, p12, p16 = plots\n",
    "\n",
    "#tie the x and y ranges of each plot together\n",
    "#p00.x_range = p04.x_range = p08.x_range = p12.x_range = p16.x_range\n",
    "#p00.y_range = p04.y_range = p08.y_range = p12.y_range = p16.y_range"
   ]
  },
  {
   "cell_type": "code",
   "execution_count": 104,
   "metadata": {},
   "outputs": [],
   "source": [
    "#create a gridplot with the 5 plots\n",
    "layout = gridplot([\n",
    "    [p00, p04],\n",
    "    [p08, p12],\n",
    "    [p16, None]\n",
    "    ],\n",
    "    toolbar_location = 'right')\n",
    "\n",
    "output_file('election_plot.html')\n",
    "show(layout)"
   ]
  },
  {
   "cell_type": "code",
   "execution_count": null,
   "metadata": {},
   "outputs": [],
   "source": []
  }
 ],
 "metadata": {
  "kernelspec": {
   "display_name": "Python 3",
   "language": "python",
   "name": "python3"
  },
  "language_info": {
   "codemirror_mode": {
    "name": "ipython",
    "version": 3
   },
   "file_extension": ".py",
   "mimetype": "text/x-python",
   "name": "python",
   "nbconvert_exporter": "python",
   "pygments_lexer": "ipython3",
   "version": "3.7.8"
  }
 },
 "nbformat": 4,
 "nbformat_minor": 4
}
